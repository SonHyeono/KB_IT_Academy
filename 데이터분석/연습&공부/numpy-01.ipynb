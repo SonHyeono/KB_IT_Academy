{
 "cells": [
  {
   "cell_type": "code",
   "execution_count": 2,
   "id": "6e1a7ab1",
   "metadata": {},
   "outputs": [
    {
     "name": "stdout",
     "output_type": "stream",
     "text": [
      "[1 2 3]\n"
     ]
    }
   ],
   "source": [
    "import numpy as np\n",
    "\n",
    "n1 = np.array([1,2,3])\n",
    "print(n1)"
   ]
  },
  {
   "cell_type": "code",
   "execution_count": 27,
   "id": "4c9b6a06",
   "metadata": {},
   "outputs": [],
   "source": [
    "n2 = np.array([[1,2],[3,4] ])"
   ]
  },
  {
   "cell_type": "code",
   "execution_count": 4,
   "id": "befc428b",
   "metadata": {},
   "outputs": [
    {
     "data": {
      "text/plain": [
       "array([[[1, 2],\n",
       "        [3, 4]],\n",
       "\n",
       "       [[1, 2],\n",
       "        [3, 4]]])"
      ]
     },
     "execution_count": 4,
     "metadata": {},
     "output_type": "execute_result"
    }
   ],
   "source": [
    "n3 = np.array( [[[1,2], [3,4]], [[1,2], [3,4]], ] )\n",
    "n3"
   ]
  },
  {
   "cell_type": "code",
   "execution_count": 16,
   "id": "e7a20825",
   "metadata": {},
   "outputs": [
    {
     "data": {
      "text/plain": [
       "range(0, 5)"
      ]
     },
     "execution_count": 16,
     "metadata": {},
     "output_type": "execute_result"
    }
   ],
   "source": [
    "range(0,5,1) # 증가치는 정수만 지원"
   ]
  },
  {
   "cell_type": "code",
   "execution_count": 17,
   "id": "afb96a88",
   "metadata": {},
   "outputs": [
    {
     "data": {
      "text/plain": [
       "array([0. , 0.5, 1. , 1.5, 2. , 2.5, 3. , 3.5, 4. , 4.5])"
      ]
     },
     "execution_count": 17,
     "metadata": {},
     "output_type": "execute_result"
    }
   ],
   "source": [
    "np.arange(0, 5, 0.5)"
   ]
  },
  {
   "cell_type": "code",
   "execution_count": 18,
   "id": "d5934645",
   "metadata": {},
   "outputs": [
    {
     "data": {
      "text/plain": [
       "array([ 1. ,  2.8,  4.6,  6.4,  8.2, 10. ])"
      ]
     },
     "execution_count": 18,
     "metadata": {},
     "output_type": "execute_result"
    }
   ],
   "source": [
    "np.linspace(1, 10, 6)"
   ]
  },
  {
   "cell_type": "code",
   "execution_count": 19,
   "id": "78b6c4f7",
   "metadata": {},
   "outputs": [
    {
     "data": {
      "text/plain": [
       "array([[[1., 1., 1.],\n",
       "        [1., 1., 1.]],\n",
       "\n",
       "       [[1., 1., 1.],\n",
       "        [1., 1., 1.]]])"
      ]
     },
     "execution_count": 19,
     "metadata": {},
     "output_type": "execute_result"
    }
   ],
   "source": [
    "np.ones([2,2,3])  # 3차원의 경우는 면, 행 열 이다."
   ]
  },
  {
   "cell_type": "code",
   "execution_count": 20,
   "id": "ec98a33a",
   "metadata": {},
   "outputs": [
    {
     "name": "stdout",
     "output_type": "stream",
     "text": [
      "Variable   Type       Data/Info\n",
      "-------------------------------\n",
      "n1         ndarray    3: 3 elems, type `int32`, 12 bytes\n",
      "n3         ndarray    2x2x2: 8 elems, type `int32`, 32 bytes\n",
      "np         module     <module 'numpy' from 'C:\\<...>ges\\\\numpy\\\\__init__.py'>\n",
      "x          range      range(0, 5)\n"
     ]
    }
   ],
   "source": [
    "%whos"
   ]
  },
  {
   "cell_type": "code",
   "execution_count": 25,
   "id": "c532d8da",
   "metadata": {},
   "outputs": [
    {
     "data": {
      "text/plain": [
       "(1, (3,), 3)"
      ]
     },
     "execution_count": 25,
     "metadata": {},
     "output_type": "execute_result"
    }
   ],
   "source": [
    "n1.ndim , n1.shape, n1.size"
   ]
  },
  {
   "cell_type": "code",
   "execution_count": 26,
   "id": "e34d72f4",
   "metadata": {},
   "outputs": [
    {
     "data": {
      "text/plain": [
       "(3, (2, 2, 2), 8)"
      ]
     },
     "execution_count": 26,
     "metadata": {},
     "output_type": "execute_result"
    }
   ],
   "source": [
    "n3.ndim, n3.shape, n3.size"
   ]
  },
  {
   "cell_type": "code",
   "execution_count": 28,
   "id": "51290808",
   "metadata": {},
   "outputs": [
    {
     "data": {
      "text/plain": [
       "array([[1, 3],\n",
       "       [2, 4]])"
      ]
     },
     "execution_count": 28,
     "metadata": {},
     "output_type": "execute_result"
    }
   ],
   "source": [
    "n2.T"
   ]
  },
  {
   "cell_type": "code",
   "execution_count": 30,
   "id": "56bc2473",
   "metadata": {},
   "outputs": [
    {
     "data": {
      "text/plain": [
       "array([ 0,  1,  2,  3,  4,  5,  6,  7,  8,  9, 10, 11])"
      ]
     },
     "execution_count": 30,
     "metadata": {},
     "output_type": "execute_result"
    }
   ],
   "source": [
    "arr1 = np.arange(12)\n",
    "arr1"
   ]
  },
  {
   "cell_type": "code",
   "execution_count": 32,
   "id": "3841adf0",
   "metadata": {},
   "outputs": [
    {
     "data": {
      "text/plain": [
       "array([[[ 0,  1],\n",
       "        [ 2,  3],\n",
       "        [ 4,  5]],\n",
       "\n",
       "       [[ 6,  7],\n",
       "        [ 8,  9],\n",
       "        [10, 11]]])"
      ]
     },
     "execution_count": 32,
     "metadata": {},
     "output_type": "execute_result"
    }
   ],
   "source": [
    "# arr1.reshape(2,3,2)\n",
    "arr1.reshape(-1,3,2) # -1은 적절하게 단한번만 알아서 나타내줌. (즉 나누기 귀찮을 때 -1 로 하면 됨.)"
   ]
  },
  {
   "cell_type": "code",
   "execution_count": 39,
   "id": "b51ebab2",
   "metadata": {},
   "outputs": [
    {
     "data": {
      "text/plain": [
       "array([ 0,  1,  2,  3,  4,  5,  6,  7,  8,  9, 10, 11])"
      ]
     },
     "execution_count": 39,
     "metadata": {},
     "output_type": "execute_result"
    }
   ],
   "source": [
    "arr1.reshape(2,3,-1).reshape(-1)"
   ]
  },
  {
   "cell_type": "code",
   "execution_count": 40,
   "id": "801d9068",
   "metadata": {},
   "outputs": [
    {
     "data": {
      "text/plain": [
       "array([[[ 0,  1],\n",
       "        [ 2,  3],\n",
       "        [ 4,  5]],\n",
       "\n",
       "       [[ 6,  7],\n",
       "        [ 8,  9],\n",
       "        [10, 11]]])"
      ]
     },
     "execution_count": 40,
     "metadata": {},
     "output_type": "execute_result"
    }
   ],
   "source": [
    "arr2 = arr1.reshape(2,3,-1)\n",
    "arr2"
   ]
  },
  {
   "cell_type": "code",
   "execution_count": 41,
   "id": "ef8a2202",
   "metadata": {},
   "outputs": [
    {
     "data": {
      "text/plain": [
       "array([[ 0],\n",
       "       [ 1],\n",
       "       [ 2],\n",
       "       [ 3],\n",
       "       [ 4],\n",
       "       [ 5],\n",
       "       [ 6],\n",
       "       [ 7],\n",
       "       [ 8],\n",
       "       [ 9],\n",
       "       [10],\n",
       "       [11]])"
      ]
     },
     "execution_count": 41,
     "metadata": {},
     "output_type": "execute_result"
    }
   ],
   "source": [
    "arr2.reshape(-1,1)"
   ]
  },
  {
   "cell_type": "code",
   "execution_count": 42,
   "id": "5bc8599b",
   "metadata": {},
   "outputs": [
    {
     "data": {
      "text/plain": [
       "array([[ 0,  1,  2,  3,  4,  5,  6,  7,  8,  9, 10, 11]])"
      ]
     },
     "execution_count": 42,
     "metadata": {},
     "output_type": "execute_result"
    }
   ],
   "source": [
    "arr2.reshape(1,-1)"
   ]
  },
  {
   "cell_type": "code",
   "execution_count": 43,
   "id": "d42ba636",
   "metadata": {},
   "outputs": [
    {
     "data": {
      "text/plain": [
       "array([ 0,  1,  2,  3,  4,  5,  6,  7,  8,  9, 10, 11])"
      ]
     },
     "execution_count": 43,
     "metadata": {},
     "output_type": "execute_result"
    }
   ],
   "source": [
    "arr2.reshape(-1)"
   ]
  },
  {
   "cell_type": "code",
   "execution_count": 44,
   "id": "1b4a5a4b",
   "metadata": {},
   "outputs": [
    {
     "data": {
      "text/plain": [
       "array([[1, 2],\n",
       "       [3, 4]])"
      ]
     },
     "execution_count": 44,
     "metadata": {},
     "output_type": "execute_result"
    }
   ],
   "source": [
    "n11 = np.arange(1,5).reshape(2,2)\n",
    "n11"
   ]
  },
  {
   "cell_type": "code",
   "execution_count": 45,
   "id": "6a9d4e61",
   "metadata": {},
   "outputs": [
    {
     "data": {
      "text/plain": [
       "array([[10, 11],\n",
       "       [12, 13]])"
      ]
     },
     "execution_count": 45,
     "metadata": {},
     "output_type": "execute_result"
    }
   ],
   "source": [
    "n22 = np.arange(10, 14).reshape(2,2)\n",
    "n22"
   ]
  },
  {
   "cell_type": "code",
   "execution_count": 46,
   "id": "8e6df556",
   "metadata": {},
   "outputs": [
    {
     "data": {
      "text/plain": [
       "array([[11, 13],\n",
       "       [15, 17]])"
      ]
     },
     "execution_count": 46,
     "metadata": {},
     "output_type": "execute_result"
    }
   ],
   "source": [
    "n11+n22"
   ]
  },
  {
   "cell_type": "code",
   "execution_count": 47,
   "id": "36832652",
   "metadata": {},
   "outputs": [],
   "source": [
    "점수 = np.array( [1,3,5,9,10] )\n",
    "구분 = np.array( ['Fail','Fail','Fail','Pass','Pass'] )"
   ]
  },
  {
   "cell_type": "code",
   "execution_count": 52,
   "id": "5f038b2f",
   "metadata": {},
   "outputs": [
    {
     "name": "stdout",
     "output_type": "stream",
     "text": [
      "[-7 -5 -3  1  2]\n",
      "[49 25  9  1  4]\n",
      "[7 5 3 1 2]\n",
      "[49 25  9  1  4]\n"
     ]
    }
   ],
   "source": [
    "내점수 = 8 \n",
    "print(점수 - 내점수)\n",
    "dists = 점수 - 내점수\n",
    "print(dists**2)\n",
    "print(np.abs(dists))\n",
    "dists = dists**2\n",
    "print(dists)\n"
   ]
  },
  {
   "cell_type": "code",
   "execution_count": 56,
   "id": "b42d1dc4",
   "metadata": {},
   "outputs": [],
   "source": [
    "좌표리스트 = np.array([\n",
    "    [1, 5],\n",
    "    [2, 10],\n",
    "    [3, 6],\n",
    "    [4, 2],\n",
    "    [5, 3],\n",
    "    [7, 3],\n",
    "])\n",
    "구분 = np.array([\"Fail\",\"Fail\",\"Fail\",\"Pass\",\"Pass\",\"Pass\"])"
   ]
  },
  {
   "cell_type": "code",
   "execution_count": 59,
   "id": "0d5b988f",
   "metadata": {},
   "outputs": [],
   "source": [
    "내좌표 = [5, 5]\n",
    "dists = 좌표리스트 - 내좌표   # numpy에서만 지원."
   ]
  },
  {
   "cell_type": "code",
   "execution_count": 60,
   "id": "c2f9846c",
   "metadata": {},
   "outputs": [
    {
     "data": {
      "text/plain": [
       "array([[16,  0],\n",
       "       [ 9, 25],\n",
       "       [ 4,  1],\n",
       "       [ 1,  9],\n",
       "       [ 0,  4],\n",
       "       [ 4,  4]], dtype=int32)"
      ]
     },
     "execution_count": 60,
     "metadata": {},
     "output_type": "execute_result"
    }
   ],
   "source": [
    "dists = dists**2\n",
    "dists"
   ]
  },
  {
   "cell_type": "code",
   "execution_count": 66,
   "id": "34c546a0",
   "metadata": {},
   "outputs": [
    {
     "name": "stdout",
     "output_type": "stream",
     "text": [
      "[16 34  5 10  4  8]\n",
      "[4.         5.83095189 2.23606798 3.16227766 2.         2.82842712]\n"
     ]
    }
   ],
   "source": [
    "dists.sum() # 이렇게 더하면 모든 요소들을 다 더한 것.\n",
    "np.sum(dists) # 이것도 더하면 모든 요소들을 다 더한 것.\n",
    "print(np.sum(dists, axis=1)) #  axis가 1이면 행별로 값을 더해서 나타내준다. 즉 열방향 \n",
    "print(np.sqrt(np.sum(dists, axis=1)))"
   ]
  },
  {
   "cell_type": "code",
   "execution_count": 68,
   "id": "b113ba6c",
   "metadata": {},
   "outputs": [],
   "source": [
    "지점별매출리스트 = np.array([\n",
    "    [1, 5, 3, 3],  # 주류, 식품, 영업매출, 개발매출\n",
    "    [2, 10, 4, 4],\n",
    "    [3, 6, 7, 7],\n",
    "    [4, 2, 7, 7],\n",
    "])\n",
    "구분 = np.array([\"경고\",\"경고\", \"경고\",\"승진\", ])\n",
    "\n",
    "나의매출 = [2, 3, 5, 5] "
   ]
  },
  {
   "cell_type": "code",
   "execution_count": 78,
   "id": "bd6b389d",
   "metadata": {},
   "outputs": [
    {
     "data": {
      "text/plain": [
       "array([3.60555128, 7.14142843, 4.24264069, 3.60555128])"
      ]
     },
     "execution_count": 78,
     "metadata": {},
     "output_type": "execute_result"
    }
   ],
   "source": [
    "arr3 = np.sqrt(((지점별매출리스트 - 나의매출)**2).sum(axis=1))\n",
    "arr3"
   ]
  },
  {
   "cell_type": "code",
   "execution_count": 81,
   "id": "b1842c7f",
   "metadata": {},
   "outputs": [
    {
     "name": "stdout",
     "output_type": "stream",
     "text": [
      "[ True False False  True]\n",
      "[[1 5 3 3]\n",
      " [4 2 7 7]]\n"
     ]
    }
   ],
   "source": [
    "print(arr3 < 4)\n",
    "print(지점별매출리스트[arr3 < 4]) # 참인 행들이 출력 // 첫번째 행과 3번째 행이 True여서 나오게 되고, 행의 개수만큼 참거짓이 들어가야 나옴.\n",
    "\n"
   ]
  },
  {
   "cell_type": "code",
   "execution_count": 77,
   "id": "aa5b0726",
   "metadata": {},
   "outputs": [
    {
     "name": "stdout",
     "output_type": "stream",
     "text": [
      "[1 5 3 3]\n",
      "1\n",
      "1\n",
      "[1 2 3 4]\n"
     ]
    }
   ],
   "source": [
    "print(지점별매출리스트[0])\n",
    "print(지점별매출리스트[0][0])\n",
    "print(지점별매출리스트[0,0])\n",
    "print(지점별매출리스트[:,0]) # 행, 열  ( 내용을 접근하는 방법을 인덱싱이라고 한다. )\n"
   ]
  },
  {
   "cell_type": "code",
   "execution_count": 87,
   "id": "de8cdfd7",
   "metadata": {},
   "outputs": [
    {
     "name": "stdout",
     "output_type": "stream",
     "text": [
      "[[ 1  5  3  3]\n",
      " [ 2 10  4  4]\n",
      " [ 3  6  7  7]\n",
      " [ 4  2  7  7]]\n"
     ]
    },
    {
     "data": {
      "text/plain": [
       "array([[7, 7],\n",
       "       [7, 7]])"
      ]
     },
     "execution_count": 87,
     "metadata": {},
     "output_type": "execute_result"
    }
   ],
   "source": [
    "print(지점별매출리스트)\n",
    "지점별매출리스트[[0,1], [1,1]]\n",
    "지점별매출리스트[2:4,2:4]"
   ]
  },
  {
   "cell_type": "code",
   "execution_count": 88,
   "id": "40ead66d",
   "metadata": {},
   "outputs": [
    {
     "data": {
      "text/plain": [
       "(array([1, 1, 1, 1, 2, 3, 3], dtype=int64),\n",
       " array([0, 1, 2, 3, 1, 0, 1], dtype=int64))"
      ]
     },
     "execution_count": 88,
     "metadata": {},
     "output_type": "execute_result"
    }
   ],
   "source": [
    "np.where(지점별매출리스트%2==0)"
   ]
  },
  {
   "cell_type": "code",
   "execution_count": 90,
   "id": "8425c607",
   "metadata": {},
   "outputs": [
    {
     "data": {
      "text/plain": [
       "array([['경고', '유예', '경고', '경고'],\n",
       "       ['경고', '유예', '유예', '유예'],\n",
       "       ['경고', '유예', '유예', '유예'],\n",
       "       ['유예', '경고', '유예', '유예']], dtype='<U2')"
      ]
     },
     "execution_count": 90,
     "metadata": {},
     "output_type": "execute_result"
    }
   ],
   "source": [
    "arr4 = np.where(지점별매출리스트<4, \"경고\", \"유예\")\n",
    "arr4    # dtype이 U2면, 데이터 타입이 Unit코드이고, 최대길이가 2다.(경고, 유예 둘다 2자리) "
   ]
  },
  {
   "cell_type": "code",
   "execution_count": 91,
   "id": "0a827691",
   "metadata": {},
   "outputs": [
    {
     "data": {
      "text/plain": [
       "array([['Warning', 'Remain', 'Warning', 'Warning'],\n",
       "       ['Warning', 'Remain', 'Remain', 'Remain'],\n",
       "       ['Warning', 'Remain', 'Remain', 'Remain'],\n",
       "       ['Remain', 'Warning', 'Remain', 'Remain']], dtype='<U7')"
      ]
     },
     "execution_count": 91,
     "metadata": {},
     "output_type": "execute_result"
    }
   ],
   "source": [
    "arr4 = np.where(지점별매출리스트<4, \"Warning\", \"Remain\")\n",
    "arr4 "
   ]
  },
  {
   "cell_type": "code",
   "execution_count": 100,
   "id": "7efe4e4d",
   "metadata": {},
   "outputs": [
    {
     "name": "stdout",
     "output_type": "stream",
     "text": [
      "['A', 'B', 'C', 'D']\n",
      "ABCD\n"
     ]
    }
   ],
   "source": [
    "지점명 = list(\"ABCD\")\n",
    "print(지점명)\n",
    "print(\"\".join(지점명))\n",
    "# 문자열을 쪼개서 배열로 담고싶을 때 이렇게 하면 됨.\n"
   ]
  },
  {
   "cell_type": "code",
   "execution_count": 104,
   "id": "24792d60",
   "metadata": {},
   "outputs": [
    {
     "name": "stdout",
     "output_type": "stream",
     "text": [
      "[[ 1  5  3  3]\n",
      " [ 2 10  4  4]\n",
      " [ 3  6  7  7]\n",
      " [ 4  2  7  7]]\n"
     ]
    }
   ],
   "source": [
    "# 주류, 식품, 영업매출, 개발매출\n",
    "print(지점별매출리스트)\n",
    "지점명 = np.array(list(\"ABCD\"))"
   ]
  },
  {
   "cell_type": "code",
   "execution_count": 94,
   "id": "91aa8168",
   "metadata": {},
   "outputs": [
    {
     "data": {
      "text/plain": [
       "array([1, 2, 3, 3])"
      ]
     },
     "execution_count": 94,
     "metadata": {},
     "output_type": "execute_result"
    }
   ],
   "source": [
    "지점별매출리스트.min(axis=0)"
   ]
  },
  {
   "cell_type": "code",
   "execution_count": 107,
   "id": "9176051d",
   "metadata": {},
   "outputs": [
    {
     "data": {
      "text/plain": [
       "'A'"
      ]
     },
     "execution_count": 107,
     "metadata": {},
     "output_type": "execute_result"
    }
   ],
   "source": [
    "# 최소값의 인덱스 : argmin , 최대값의 인덱스 : argmax\n",
    "min_index = 지점별매출리스트[:,0].argmin()\n",
    "지점명[min_index]"
   ]
  },
  {
   "cell_type": "code",
   "execution_count": 109,
   "id": "64eeae33",
   "metadata": {},
   "outputs": [
    {
     "data": {
      "text/plain": [
       "1.75"
      ]
     },
     "execution_count": 109,
     "metadata": {},
     "output_type": "execute_result"
    }
   ],
   "source": [
    "지점별매출리스트[:, 0].mean()\n",
    "np.quantile(지점별매출리스트[:,0], 0.25)  # 25%"
   ]
  },
  {
   "cell_type": "code",
   "execution_count": 111,
   "id": "bd403527",
   "metadata": {},
   "outputs": [
    {
     "name": "stdout",
     "output_type": "stream",
     "text": [
      "[ 5 10  6  2]\n",
      "[ 2  5  6 10]\n"
     ]
    }
   ],
   "source": [
    "print(지점별매출리스트[: , 1])\n",
    "print(np.sort(지점별매출리스트[: , 1]) )"
   ]
  },
  {
   "cell_type": "code",
   "execution_count": 113,
   "id": "ddb07797",
   "metadata": {},
   "outputs": [
    {
     "name": "stdout",
     "output_type": "stream",
     "text": [
      "[3 1 7 9]\n",
      "[1 0 2 3]\n",
      "[1 3 7 9]\n"
     ]
    }
   ],
   "source": [
    "aa= np.array([3,1,7,9])\n",
    "print(aa)\n",
    "sort_index = np.argsort(aa)\n",
    "print(sort_index)\n",
    "print(aa[sort_index])"
   ]
  },
  {
   "cell_type": "code",
   "execution_count": 131,
   "id": "107dccab",
   "metadata": {
    "scrolled": true
   },
   "outputs": [
    {
     "name": "stdout",
     "output_type": "stream",
     "text": [
      "내좌표와 좌표들간 거리 [[-4  0]\n",
      " [-3  5]\n",
      " [-2  1]\n",
      " [-1 -3]\n",
      " [ 0 -2]\n",
      " [ 2 -2]]\n",
      "거리를 각각 제곱 [[16  0]\n",
      " [ 9 25]\n",
      " [ 4  1]\n",
      " [ 1  9]\n",
      " [ 0  4]\n",
      " [ 4  4]]\n",
      "제곱들을 더해 제곱근(직선거리) [4.         5.83095189 2.23606798 3.16227766 2.         2.82842712]\n",
      "가장 가까이 배치되어야할 순서 인덱스 [4 2 5 3 0 1]\n",
      "['Pass' 'Fail' 'Pass' 'Pass' 'Fail' 'Fail']\n",
      "결론: 나의 예측 Pass\n",
      "['Pass' 'Fail' 'Pass']\n"
     ]
    }
   ],
   "source": [
    "좌표리스트 = np.array([\n",
    "    [1, 5],  # x, y\n",
    "    [2, 10],\n",
    "    [3, 6],\n",
    "    [4, 2],\n",
    "    [5, 3],\n",
    "    [7, 3],\n",
    "])\n",
    "구분 = np.array([\"Fail\",\"Fail\",\"Fail\",\"Pass\",\"Pass\",\"Pass\",])\n",
    "\n",
    "내좌표 = [5,5]\n",
    "dists = 좌표리스트 - 내좌표\n",
    "print(\"내좌표와 좌표들간 거리\", dists)\n",
    "dists = dists**2\n",
    "print(\"거리를 각각 제곱\",dists)\n",
    "dists = np.sqrt(np.sum(dists, axis=1))    # 내좌표와 좌표리스트간 직선 거리\n",
    "print(\"제곱들을 더해 제곱근(직선거리)\",dists)\n",
    "# 직선거리를 정렬\n",
    "sort_index = np.argsort(dists)\n",
    "print(\"가장 가까이 배치되어야할 순서 인덱스\", sort_index)\n",
    "print(구분[sort_index])\n",
    "print(\"결론: 나의 예측\", 구분[sort_index][0])\n",
    "# 범위를 넓혀 가장 가까운 3개를 추출\n",
    "print(구분[sort_index][:3])"
   ]
  },
  {
   "cell_type": "markdown",
   "id": "4dc848c0",
   "metadata": {},
   "source": [
    "#### np.bincount() : 정수데이터의 0부터 최대값까지의 빈도수\n",
    "#### np.unique(문자/정수배열, return_counts=True) 하면 문자열 빈도수 나옴( 이때 return_counts=True를 해야한다)"
   ]
  },
  {
   "cell_type": "code",
   "execution_count": 138,
   "id": "1260a81b",
   "metadata": {},
   "outputs": [
    {
     "name": "stdout",
     "output_type": "stream",
     "text": [
      "['Fail' 'Pass']\n",
      "[1 2]\n"
     ]
    },
    {
     "data": {
      "text/plain": [
       "'Pass'"
      ]
     },
     "execution_count": 138,
     "metadata": {},
     "output_type": "execute_result"
    }
   ],
   "source": [
    "# 범위를 넓혀 가장 가까운 3개를 추출해서 응용\n",
    "uql, uqc = np.unique(구분[sort_index][:3], return_counts=True)\n",
    "print(uql)\n",
    "print(uqc)\n",
    "\n",
    "uql[np.argmax(uqc)]  # 빈도수가 높은 글자"
   ]
  },
  {
   "cell_type": "code",
   "execution_count": 132,
   "id": "bc72805d",
   "metadata": {},
   "outputs": [
    {
     "data": {
      "text/plain": [
       "array([0, 1, 0, 2, 0, 0, 0, 0, 0, 1], dtype=int64)"
      ]
     },
     "execution_count": 132,
     "metadata": {},
     "output_type": "execute_result"
    }
   ],
   "source": [
    "arr4 = np.array([3,1,9,3])\n",
    "np.bincount(arr4)"
   ]
  },
  {
   "cell_type": "code",
   "execution_count": null,
   "id": "92465ae6",
   "metadata": {},
   "outputs": [],
   "source": []
  },
  {
   "cell_type": "code",
   "execution_count": null,
   "id": "74dfdc0d",
   "metadata": {},
   "outputs": [],
   "source": []
  },
  {
   "cell_type": "code",
   "execution_count": null,
   "id": "da2e82ca",
   "metadata": {},
   "outputs": [],
   "source": []
  },
  {
   "cell_type": "code",
   "execution_count": null,
   "id": "02b579df",
   "metadata": {},
   "outputs": [],
   "source": []
  },
  {
   "cell_type": "code",
   "execution_count": null,
   "id": "09e5b4ad",
   "metadata": {},
   "outputs": [],
   "source": []
  },
  {
   "cell_type": "code",
   "execution_count": null,
   "id": "5e78958a",
   "metadata": {},
   "outputs": [],
   "source": []
  },
  {
   "cell_type": "code",
   "execution_count": null,
   "id": "6ed23e1e",
   "metadata": {},
   "outputs": [],
   "source": []
  },
  {
   "cell_type": "code",
   "execution_count": null,
   "id": "3392d6ec",
   "metadata": {},
   "outputs": [],
   "source": []
  },
  {
   "cell_type": "code",
   "execution_count": null,
   "id": "e576dd69",
   "metadata": {},
   "outputs": [],
   "source": []
  },
  {
   "cell_type": "code",
   "execution_count": null,
   "id": "98542af2",
   "metadata": {},
   "outputs": [],
   "source": []
  },
  {
   "cell_type": "code",
   "execution_count": null,
   "id": "3791bd3a",
   "metadata": {},
   "outputs": [],
   "source": []
  }
 ],
 "metadata": {
  "kernelspec": {
   "display_name": "Python 3 (ipykernel)",
   "language": "python",
   "name": "python3"
  },
  "language_info": {
   "codemirror_mode": {
    "name": "ipython",
    "version": 3
   },
   "file_extension": ".py",
   "mimetype": "text/x-python",
   "name": "python",
   "nbconvert_exporter": "python",
   "pygments_lexer": "ipython3",
   "version": "3.9.7"
  }
 },
 "nbformat": 4,
 "nbformat_minor": 5
}
