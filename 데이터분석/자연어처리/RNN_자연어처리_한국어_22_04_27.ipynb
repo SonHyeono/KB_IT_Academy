{
 "cells": [
  {
   "cell_type": "code",
   "execution_count": 1,
   "metadata": {
    "colab": {
     "base_uri": "https://localhost:8080/"
    },
    "id": "2QzZra_q1FyN",
    "outputId": "d01a59fe-ff95-4a36-9ea4-e4bbfcd1fba9"
   },
   "outputs": [
    {
     "name": "stdout",
     "output_type": "stream",
     "text": [
      "Collecting konlpy\n",
      "  Downloading konlpy-0.6.0-py2.py3-none-any.whl (19.4 MB)\n",
      "\u001b[K     |████████████████████████████████| 19.4 MB 5.4 MB/s \n",
      "\u001b[?25hRequirement already satisfied: lxml>=4.1.0 in /usr/local/lib/python3.7/dist-packages (from konlpy) (4.2.6)\n",
      "Collecting JPype1>=0.7.0\n",
      "  Downloading JPype1-1.3.0-cp37-cp37m-manylinux_2_5_x86_64.manylinux1_x86_64.whl (448 kB)\n",
      "\u001b[K     |████████████████████████████████| 448 kB 56.6 MB/s \n",
      "\u001b[?25hRequirement already satisfied: numpy>=1.6 in /usr/local/lib/python3.7/dist-packages (from konlpy) (1.21.6)\n",
      "Requirement already satisfied: typing-extensions in /usr/local/lib/python3.7/dist-packages (from JPype1>=0.7.0->konlpy) (4.2.0)\n",
      "Installing collected packages: JPype1, konlpy\n",
      "Successfully installed JPype1-1.3.0 konlpy-0.6.0\n"
     ]
    }
   ],
   "source": [
    "!pip install konlpy"
   ]
  },
  {
   "cell_type": "code",
   "execution_count": 2,
   "metadata": {
    "colab": {
     "base_uri": "https://localhost:8080/"
    },
    "id": "QKoCkVBn1hWg",
    "outputId": "51a5c095-91f4-4971-8ce1-b11b528c44fc"
   },
   "outputs": [
    {
     "name": "stdout",
     "output_type": "stream",
     "text": [
      "Linux f068b74b3465 5.4.144+ #1 SMP Tue Dec 7 09:58:10 PST 2021 x86_64 x86_64 x86_64 GNU/Linux\n"
     ]
    }
   ],
   "source": [
    "!uname -a  # 유닉스 계열밖에 안되는 명령어, window에서는 안됨. colab의 경우는 리눅스여서 가능."
   ]
  },
  {
   "cell_type": "code",
   "execution_count": 3,
   "metadata": {
    "colab": {
     "base_uri": "https://localhost:8080/"
    },
    "id": "-dHsgz56MvL3",
    "outputId": "c1010d3a-ae49-400e-aad4-0e6d5f2e46e5"
   },
   "outputs": [
    {
     "name": "stdout",
     "output_type": "stream",
     "text": [
      "['아버지', '가', '방', '에', '들어가', 'ㅂ니다', '.']\n",
      "[('아버지', 'NNG'), ('가', 'JKS'), ('방', 'NNG'), ('에', 'JKM'), ('들어가', 'VV'), ('ㅂ니다', 'EFN'), ('.', 'SF')]\n",
      "['아버지', '방']\n",
      "['오늘 날씨는 어 때요?', '내일은 덥다 던데.']\n"
     ]
    }
   ],
   "source": [
    "from konlpy.tag import Kkma\n",
    "# 꼬꼬마 형태소 분석기 객체 생성\n",
    "kkma = Kkma()\n",
    "text = \"아버지가 방에 들어갑니다.\"\n",
    "\n",
    "# 형태소 추출\n",
    "morphs = kkma.morphs(text)\n",
    "print(morphs)\n",
    "# ['아버지', '가', '방', '에', '들어가', 'ㅂ니다', '.']\n",
    "\n",
    "# 형태소와 품사 태그 추출\n",
    "pos = kkma.pos(text)\n",
    "print(pos)\n",
    "# [('아버지', 'NNG'), ('가', 'JKS'), ('방', 'NNG'), ('에', 'JKM'), ('들어가', 'VV'), ('ㅂ니다', 'EFN'), ('.', 'SF')]\n",
    "\n",
    "# 명사만 추출\n",
    "nouns = kkma.nouns(text)\n",
    "print(nouns)\n",
    "# ['아버지', '방']\n",
    "\n",
    "# 문장 분리\n",
    "sentences = \"오늘 날씨는 어때요? 내일은 덥다던데.\"\n",
    "s = kkma.sentences(sentences)\n",
    "print(s)\n",
    "# ['오늘 날씨는 어 때요?', '내일은 덥다 던데.']"
   ]
  },
  {
   "cell_type": "code",
   "execution_count": 30,
   "metadata": {
    "colab": {
     "base_uri": "https://localhost:8080/"
    },
    "id": "fqtYPO4qNBV8",
    "outputId": "eb5649de-4a88-42e5-da37-4fc9659c34ac"
   },
   "outputs": [
    {
     "data": {
      "text/plain": [
       "[['아버지', '일반명사'],\n",
       " ['가', '주격조사'],\n",
       " ['방', '일반명사'],\n",
       " ['에', '부사격 조사'],\n",
       " ['들어가', '동사'],\n",
       " ['ㅂ니다', '평서형 종결 어미'],\n",
       " ['.', '기타 접미사']]"
      ]
     },
     "execution_count": 30,
     "metadata": {},
     "output_type": "execute_result"
    }
   ],
   "source": [
    "dict = {'NNG':'일반명사', 'JKS':'주격조사', 'JKM':'부사격 조사', 'VV':'동사', 'EFN':'평서형 종결 어미', 'SF':'기타 접미사' }\n",
    "\n",
    "pos = kkma.pos(text)\n",
    "\n",
    "for i in range(len(pos)):\n",
    "  pos[i] = list(pos[i])\n",
    "  pos[i][1] = dict[pos[i][1]]\n",
    "\n",
    "pos"
   ]
  },
  {
   "cell_type": "code",
   "execution_count": 36,
   "metadata": {
    "colab": {
     "base_uri": "https://localhost:8080/"
    },
    "id": "MVxbnXQHNzRy",
    "outputId": "11ced3a7-2795-4739-d483-6196446937cc"
   },
   "outputs": [
    {
     "data": {
      "text/plain": [
       "[('아버지', '일반명사'),\n",
       " ('가', '주격조사'),\n",
       " ('방', '일반명사'),\n",
       " ('에', '없음'),\n",
       " ('들어가', '없음'),\n",
       " ('ㅂ니다', '없음'),\n",
       " ('.', '없음')]"
      ]
     },
     "execution_count": 36,
     "metadata": {},
     "output_type": "execute_result"
    }
   ],
   "source": [
    "pos = kkma.pos(text)\n",
    "wd = {'NNG':'일반명사', 'JKS':'주격조사'}\n",
    "[(p1, wd.get(p2,'없음')) for p1, p2 in pos]   # wd[p2] 를 하면 dictionary에 존재하지 않을 경우 error이기에  wd.get()으로 없을 경우를 잡아줘야함."
   ]
  },
  {
   "cell_type": "code",
   "execution_count": 37,
   "metadata": {
    "colab": {
     "base_uri": "https://localhost:8080/"
    },
    "id": "tEusHkG5QPCB",
    "outputId": "61ab625a-c65a-4ab0-b369-a0bf976cbb3d"
   },
   "outputs": [
    {
     "name": "stdout",
     "output_type": "stream",
     "text": [
      "['아버지', '가', '방', '에', '들어가', 'ㅂ니다', '.']\n",
      "[('아버지', 'NNG'), ('가', 'JKS'), ('방', 'NNG'), ('에', 'JKB'), ('들어가', 'VV'), ('ㅂ니다', 'EF'), ('.', 'SF')]\n",
      "['아버지', '방']\n"
     ]
    }
   ],
   "source": [
    "from konlpy.tag import Komoran\n",
    "\n",
    "# 코모란 형태소 분석기 객체 생성\n",
    "komoran = Komoran()\n",
    "text = \"아버지가 방에 들어갑니다.\"\n",
    "\n",
    "# 형태소 추출\n",
    "morphs = komoran.morphs(text)\n",
    "print(morphs)\n",
    "\n",
    "# 형태소와 품사 태그 추출\n",
    "pos = komoran.pos(text)\n",
    "print(pos)\n",
    "\n",
    "# 명사만 추출\n",
    "nouns = komoran.nouns(text)\n",
    "print(nouns)\n"
   ]
  },
  {
   "cell_type": "code",
   "execution_count": 38,
   "metadata": {
    "colab": {
     "base_uri": "https://localhost:8080/"
    },
    "id": "AVZQan4EZ_tM",
    "outputId": "8b748393-9f71-4715-f962-a21e4435cbf4"
   },
   "outputs": [
    {
     "name": "stdout",
     "output_type": "stream",
     "text": [
      "['아버지', '가', '방', '에', '들어갑니다', '.']\n",
      "[('아버지', 'Noun'), ('가', 'Josa'), ('방', 'Noun'), ('에', 'Josa'), ('들어갑니다', 'Verb'), ('.', 'Punctuation')]\n",
      "['아버지', '방']\n",
      "오늘 날씨가 좋아요ㅋㅋ\n",
      "['오늘', '오늘 날씨', '좋아욬', '날씨']\n"
     ]
    }
   ],
   "source": [
    "from konlpy.tag import Okt\n",
    "\n",
    "# Okt 형태소 분석기 객체 생성\n",
    "okt = Okt()\n",
    "text = \"아버지가 방에 들어갑니다.\"\n",
    "\n",
    "# 형태소 추출\n",
    "morphs = okt.morphs(text)\n",
    "print(morphs)\n",
    "\n",
    "# 형태소와 품사 태그 추출\n",
    "pos = okt.pos(text)\n",
    "print(pos)\n",
    "\n",
    "# 명사만 추출\n",
    "nouns = okt.nouns(text)\n",
    "print(nouns)\n",
    "\n",
    "# 정규화, 어구 추출\n",
    "text = \"오늘 날씨가 좋아욬ㅋㅋ\"\n",
    "print(okt.normalize(text))\n",
    "print(okt.phrases(text))\n"
   ]
  },
  {
   "cell_type": "code",
   "execution_count": 42,
   "metadata": {
    "colab": {
     "base_uri": "https://localhost:8080/"
    },
    "id": "DIOF_56LaZex",
    "outputId": "7723192b-a9b6-49c2-fa93-d005239d0372"
   },
   "outputs": [
    {
     "name": "stdout",
     "output_type": "stream",
     "text": [
      "[('우리', 'NP'), ('챗봇은', 'NA'), ('엔엘피', 'NNG'), ('를', 'JKO'), ('좋아하', 'VV'), ('아', 'EF'), ('.', 'SF')]\n"
     ]
    }
   ],
   "source": [
    "from konlpy.tag import Komoran\n",
    "# user_dic.tsv 라는 파일을 만들고 안에 내용으로 엔엘피  NNG 넣으면 됨. 이때 메모장에서 tab하고 해야함. colab에서 tab이 안됨\n",
    "#- tab을 했는데 인식이 제대로 된지 확인 하려면 Backspace를 해서 한번에 자리가 사라지면 tab이고 두번으로 나눠져서 공간이 사라질 경우는 spacebar이다.\n",
    "komoran = Komoran(userdic='./user_dic.tsv')\n",
    "text = \"우리 챗봇은 엔엘피를 좋아해.\"\n",
    "pos = komoran.pos(text)\n",
    "print(pos)\n"
   ]
  }
 ],
 "metadata": {
  "colab": {
   "collapsed_sections": [],
   "name": "RNN 자연어처리 한국어 22-04-27.ipynb",
   "provenance": []
  },
  "kernelspec": {
   "display_name": "Python 3 (ipykernel)",
   "language": "python",
   "name": "python3"
  },
  "language_info": {
   "codemirror_mode": {
    "name": "ipython",
    "version": 3
   },
   "file_extension": ".py",
   "mimetype": "text/x-python",
   "name": "python",
   "nbconvert_exporter": "python",
   "pygments_lexer": "ipython3",
   "version": "3.9.7"
  }
 },
 "nbformat": 4,
 "nbformat_minor": 1
}
