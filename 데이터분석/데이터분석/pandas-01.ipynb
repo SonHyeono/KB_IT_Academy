{
 "cells": [
  {
   "cell_type": "code",
   "execution_count": 1,
   "id": "f402afcd",
   "metadata": {},
   "outputs": [
    {
     "data": {
      "text/plain": [
       "'1.3.4'"
      ]
     },
     "execution_count": 1,
     "metadata": {},
     "output_type": "execute_result"
    }
   ],
   "source": [
    "import pandas as pd\n",
    "pd.__version__"
   ]
  },
  {
   "cell_type": "code",
   "execution_count": 2,
   "id": "e6dad3c7",
   "metadata": {},
   "outputs": [
    {
     "data": {
      "text/plain": [
       "'1.20.3'"
      ]
     },
     "execution_count": 2,
     "metadata": {},
     "output_type": "execute_result"
    }
   ],
   "source": [
    "import numpy as np\n",
    "np.__version__"
   ]
  },
  {
   "cell_type": "code",
   "execution_count": 7,
   "id": "20190fbf",
   "metadata": {},
   "outputs": [
    {
     "name": "stdout",
     "output_type": "stream",
     "text": [
      "0    1\n",
      "1    3\n",
      "2    5\n",
      "dtype: int64\n",
      "0    2\n",
      "1    4\n",
      "2    6\n",
      "dtype: int64\n"
     ]
    },
    {
     "data": {
      "text/plain": [
       "0    홍\n",
       "1    김\n",
       "2    박\n",
       "dtype: object"
      ]
     },
     "execution_count": 7,
     "metadata": {},
     "output_type": "execute_result"
    }
   ],
   "source": [
    "import pandas as pd\n",
    "s1 = pd.Series([1,3,5])\n",
    "print(s1)\n",
    "from pandas import Series, DataFrame\n",
    "s1 = Series([2,4,6])\n",
    "print(s1)\n",
    "m1 = pd.Series([\"홍\",\"김\",\"박\"])\n",
    "m1"
   ]
  },
  {
   "cell_type": "code",
   "execution_count": 8,
   "id": "59f0d0a7",
   "metadata": {},
   "outputs": [
    {
     "data": {
      "text/plain": [
       "RangeIndex(start=0, stop=3, step=1)"
      ]
     },
     "execution_count": 8,
     "metadata": {},
     "output_type": "execute_result"
    }
   ],
   "source": [
    "m1.index"
   ]
  },
  {
   "cell_type": "code",
   "execution_count": 21,
   "id": "43f9f0a9",
   "metadata": {},
   "outputs": [
    {
     "name": "stdout",
     "output_type": "stream",
     "text": [
      "90    홍\n",
      "80    김\n",
      "70    박\n",
      "dtype: object\n",
      "홍\n",
      "90 홍\n",
      "80 김\n",
      "70 박\n"
     ]
    }
   ],
   "source": [
    "m1 = pd.Series([\"홍\",\"김\",\"박\"], index = [90, 80, 70])\n",
    "print(m1)\n",
    "print(m1[90])\n",
    "# print(m1[0])     # ************이건 에러남 **************\n",
    "\n",
    "for i in m1.index:\n",
    "    print(i, m1[i])\n"
   ]
  },
  {
   "cell_type": "code",
   "execution_count": 25,
   "id": "fb31092a",
   "metadata": {},
   "outputs": [
    {
     "name": "stdout",
     "output_type": "stream",
     "text": [
      "a    홍\n",
      "b    김\n",
      "c    박\n",
      "dtype: object\n",
      "홍\n",
      "홍\n",
      "['홍' '김' '박']\n"
     ]
    }
   ],
   "source": [
    "# m1 = pd.Series([\"홍\",\"김\",\"박\"], index = list('abc'))\n",
    "m1 = pd.Series([\"홍\",\"김\",\"박\"], )\n",
    "m1.index = list('abc')\n",
    "print(m1)\n",
    "print(m1['a'])\n",
    "print(m1[0])\n",
    "print(m1.values)"
   ]
  },
  {
   "cell_type": "code",
   "execution_count": 27,
   "id": "286cbc5f",
   "metadata": {},
   "outputs": [
    {
     "data": {
      "text/plain": [
       "((3,), 1)"
      ]
     },
     "execution_count": 27,
     "metadata": {},
     "output_type": "execute_result"
    }
   ],
   "source": [
    "m1.shape, m1.ndim"
   ]
  },
  {
   "cell_type": "code",
   "execution_count": 28,
   "id": "890e4aa0",
   "metadata": {},
   "outputs": [
    {
     "data": {
      "text/plain": [
       "c    박\n",
       "a    홍\n",
       "dtype: object"
      ]
     },
     "execution_count": 28,
     "metadata": {},
     "output_type": "execute_result"
    }
   ],
   "source": [
    "m1[['c','a']]"
   ]
  },
  {
   "cell_type": "code",
   "execution_count": 29,
   "id": "b0ea0e40",
   "metadata": {},
   "outputs": [
    {
     "data": {
      "text/plain": [
       "a    홍\n",
       "c    박\n",
       "dtype: object"
      ]
     },
     "execution_count": 29,
     "metadata": {},
     "output_type": "execute_result"
    }
   ],
   "source": [
    "m1[[True,False, True]]   # 참에 해당하는 것만 추출"
   ]
  },
  {
   "cell_type": "code",
   "execution_count": 31,
   "id": "0d3f291d",
   "metadata": {},
   "outputs": [
    {
     "data": {
      "text/plain": [
       "a    홍\n",
       "dtype: object"
      ]
     },
     "execution_count": 31,
     "metadata": {},
     "output_type": "execute_result"
    }
   ],
   "source": [
    "m1[m1 == \"홍\"]  # 참에 해당하는 것만 추출"
   ]
  },
  {
   "cell_type": "code",
   "execution_count": 34,
   "id": "57653c29",
   "metadata": {},
   "outputs": [
    {
     "data": {
      "text/plain": [
       "a    홍\n",
       "b    김\n",
       "c    박\n",
       "dtype: object"
      ]
     },
     "execution_count": 34,
     "metadata": {},
     "output_type": "execute_result"
    }
   ],
   "source": [
    "m1.isnull()\n",
    "m1.notnull()\n",
    "m1[m1.notna()]"
   ]
  },
  {
   "cell_type": "code",
   "execution_count": 37,
   "id": "fd6a5d87",
   "metadata": {},
   "outputs": [
    {
     "data": {
      "text/plain": [
       "0"
      ]
     },
     "execution_count": 37,
     "metadata": {},
     "output_type": "execute_result"
    }
   ],
   "source": [
    "s1.isna().sum()"
   ]
  },
  {
   "cell_type": "code",
   "execution_count": 43,
   "id": "d1297cb4",
   "metadata": {},
   "outputs": [
    {
     "name": "stdout",
     "output_type": "stream",
     "text": [
      "d    4\n",
      "e    5\n",
      "f    6\n",
      "g    7\n",
      "dtype: int32\n",
      "d    4\n",
      "e    5\n",
      "f    6\n",
      "g    7\n",
      "dtype: int32\n"
     ]
    }
   ],
   "source": [
    "s2 = pd.Series(\n",
    "    np.arange(1, 11),\n",
    "    index = list(\"abcdefghij\")\n",
    ")\n",
    "print(s2[3:7])\n",
    "print(s2['d':'g'])        # 숫자는 뒤에가 미포함이지만, 문자는 뒤에가 포함된다."
   ]
  },
  {
   "cell_type": "code",
   "execution_count": null,
   "id": "04aa9277",
   "metadata": {},
   "outputs": [],
   "source": []
  },
  {
   "cell_type": "code",
   "execution_count": null,
   "id": "33479e53",
   "metadata": {},
   "outputs": [],
   "source": []
  },
  {
   "cell_type": "code",
   "execution_count": null,
   "id": "aba05744",
   "metadata": {},
   "outputs": [],
   "source": []
  },
  {
   "cell_type": "code",
   "execution_count": null,
   "id": "76b72821",
   "metadata": {},
   "outputs": [],
   "source": []
  },
  {
   "cell_type": "code",
   "execution_count": null,
   "id": "29a3a7b3",
   "metadata": {},
   "outputs": [],
   "source": []
  },
  {
   "cell_type": "code",
   "execution_count": null,
   "id": "633e2b0d",
   "metadata": {},
   "outputs": [],
   "source": []
  },
  {
   "cell_type": "code",
   "execution_count": null,
   "id": "9f7d4bec",
   "metadata": {},
   "outputs": [],
   "source": []
  },
  {
   "cell_type": "code",
   "execution_count": null,
   "id": "78f5b8b9",
   "metadata": {},
   "outputs": [],
   "source": []
  },
  {
   "cell_type": "code",
   "execution_count": null,
   "id": "8a7594e1",
   "metadata": {},
   "outputs": [],
   "source": []
  },
  {
   "cell_type": "code",
   "execution_count": null,
   "id": "f057148d",
   "metadata": {},
   "outputs": [],
   "source": []
  },
  {
   "cell_type": "code",
   "execution_count": null,
   "id": "36a099f5",
   "metadata": {},
   "outputs": [],
   "source": []
  },
  {
   "cell_type": "code",
   "execution_count": null,
   "id": "f3f29277",
   "metadata": {},
   "outputs": [],
   "source": []
  },
  {
   "cell_type": "code",
   "execution_count": null,
   "id": "a439ae7a",
   "metadata": {},
   "outputs": [],
   "source": []
  },
  {
   "cell_type": "code",
   "execution_count": null,
   "id": "81cbae38",
   "metadata": {},
   "outputs": [],
   "source": []
  },
  {
   "cell_type": "code",
   "execution_count": null,
   "id": "10a021fd",
   "metadata": {},
   "outputs": [],
   "source": []
  },
  {
   "cell_type": "code",
   "execution_count": null,
   "id": "7a04a841",
   "metadata": {},
   "outputs": [],
   "source": []
  },
  {
   "cell_type": "code",
   "execution_count": null,
   "id": "ffa6d144",
   "metadata": {},
   "outputs": [],
   "source": []
  },
  {
   "cell_type": "code",
   "execution_count": null,
   "id": "b236dc4c",
   "metadata": {},
   "outputs": [],
   "source": []
  },
  {
   "cell_type": "code",
   "execution_count": null,
   "id": "e34ad3c2",
   "metadata": {},
   "outputs": [],
   "source": []
  },
  {
   "cell_type": "code",
   "execution_count": null,
   "id": "2def20f9",
   "metadata": {},
   "outputs": [],
   "source": []
  },
  {
   "cell_type": "code",
   "execution_count": null,
   "id": "376470f0",
   "metadata": {},
   "outputs": [],
   "source": []
  }
 ],
 "metadata": {
  "kernelspec": {
   "display_name": "Python 3 (ipykernel)",
   "language": "python",
   "name": "python3"
  },
  "language_info": {
   "codemirror_mode": {
    "name": "ipython",
    "version": 3
   },
   "file_extension": ".py",
   "mimetype": "text/x-python",
   "name": "python",
   "nbconvert_exporter": "python",
   "pygments_lexer": "ipython3",
   "version": "3.9.7"
  }
 },
 "nbformat": 4,
 "nbformat_minor": 5
}
