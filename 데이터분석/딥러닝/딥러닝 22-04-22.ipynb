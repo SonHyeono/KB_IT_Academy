{
 "cells": [
  {
   "cell_type": "code",
   "execution_count": 5,
   "id": "8cd5384a",
   "metadata": {},
   "outputs": [
    {
     "name": "stdout",
     "output_type": "stream",
     "text": [
      "(404, 13) (102, 13)\n"
     ]
    }
   ],
   "source": [
    "from tensorflow.keras import datasets\n",
    "# datasets.\n",
    "(x_tr, y_tr), (x_te, y_te) = datasets.boston_housing.load_data()\n",
    "print(x_tr.shape, x_te.shape)"
   ]
  },
  {
   "cell_type": "code",
   "execution_count": 6,
   "id": "15045b85",
   "metadata": {},
   "outputs": [
    {
     "name": "stdout",
     "output_type": "stream",
     "text": [
      "(455, 13) (51, 13)\n"
     ]
    }
   ],
   "source": [
    "# 보스턴 지역 집값 예측 - 회귀\n",
    "from tensorflow.keras import datasets\n",
    "(x_tr, y_tr), (x_te, y_te) = datasets.boston_housing.load_data(test_split = 0.1)\n",
    "print(x_tr.shape, x_te.shape) # te_shape의 행이 반으로 줄엇다. "
   ]
  },
  {
   "cell_type": "code",
   "execution_count": 9,
   "id": "70b407dc",
   "metadata": {},
   "outputs": [],
   "source": [
    "# 표준화 전처리\n",
    "mean = x_tr.mean(axis=0)\n",
    "x_tr -= mean\n",
    "std = x_tr.std(axis=0)\n",
    "x_tr /= std # 표준화 : 평균 0, 표준편차 1\n",
    "\n",
    "x_te -= mean\n",
    "x_te /= std\n",
    "\n",
    "# test 데이터를 train 데이터의 mean과 std로 한 이유는 기준을 동일하게 해야한다. \n",
    "# 원래는 train과 test의 mean과 std로 해야함."
   ]
  },
  {
   "cell_type": "code",
   "execution_count": 17,
   "id": "a57dc462",
   "metadata": {},
   "outputs": [
    {
     "name": "stdout",
     "output_type": "stream",
     "text": [
      "Epoch 1/50\n",
      "8/8 [==============================] - 1s 29ms/step - loss: 564.7766 - mae: 21.8206 - val_loss: 496.0234 - val_mae: 20.9332\n",
      "Epoch 2/50\n",
      "8/8 [==============================] - 0s 5ms/step - loss: 529.1107 - mae: 20.9893 - val_loss: 462.9356 - val_mae: 20.1018\n",
      "Epoch 3/50\n",
      "8/8 [==============================] - 0s 4ms/step - loss: 490.7708 - mae: 20.0669 - val_loss: 424.6356 - val_mae: 19.1042\n",
      "Epoch 4/50\n",
      "8/8 [==============================] - 0s 4ms/step - loss: 446.6294 - mae: 18.9395 - val_loss: 379.2227 - val_mae: 17.8820\n",
      "Epoch 5/50\n",
      "8/8 [==============================] - 0s 4ms/step - loss: 392.7318 - mae: 17.5434 - val_loss: 324.9995 - val_mae: 16.3896\n",
      "Epoch 6/50\n",
      "8/8 [==============================] - 0s 4ms/step - loss: 329.2133 - mae: 15.8347 - val_loss: 262.4933 - val_mae: 14.5335\n",
      "Epoch 7/50\n",
      "8/8 [==============================] - 0s 5ms/step - loss: 258.7845 - mae: 13.8025 - val_loss: 197.8718 - val_mae: 12.4093\n",
      "Epoch 8/50\n",
      "8/8 [==============================] - 0s 5ms/step - loss: 189.9142 - mae: 11.5072 - val_loss: 137.8376 - val_mae: 10.1028\n",
      "Epoch 9/50\n",
      "8/8 [==============================] - 0s 5ms/step - loss: 128.1269 - mae: 9.2697 - val_loss: 92.4113 - val_mae: 8.1452\n",
      "Epoch 10/50\n",
      "8/8 [==============================] - 0s 4ms/step - loss: 87.2457 - mae: 7.5251 - val_loss: 64.4702 - val_mae: 6.8096\n",
      "Epoch 11/50\n",
      "8/8 [==============================] - 0s 5ms/step - loss: 62.4805 - mae: 6.2479 - val_loss: 50.8775 - val_mae: 5.9209\n",
      "Epoch 12/50\n",
      "8/8 [==============================] - 0s 4ms/step - loss: 52.1447 - mae: 5.5071 - val_loss: 43.4772 - val_mae: 5.2940\n",
      "Epoch 13/50\n",
      "8/8 [==============================] - 0s 5ms/step - loss: 44.5684 - mae: 4.9234 - val_loss: 36.7215 - val_mae: 4.8198\n",
      "Epoch 14/50\n",
      "8/8 [==============================] - 0s 4ms/step - loss: 37.1339 - mae: 4.4203 - val_loss: 30.7842 - val_mae: 4.4119\n",
      "Epoch 15/50\n",
      "8/8 [==============================] - 0s 4ms/step - loss: 31.7994 - mae: 4.0859 - val_loss: 26.8544 - val_mae: 4.1607\n",
      "Epoch 16/50\n",
      "8/8 [==============================] - 0s 4ms/step - loss: 28.2237 - mae: 3.8411 - val_loss: 24.1876 - val_mae: 3.9791\n",
      "Epoch 17/50\n",
      "8/8 [==============================] - 0s 4ms/step - loss: 25.7272 - mae: 3.6407 - val_loss: 22.3500 - val_mae: 3.8232\n",
      "Epoch 18/50\n",
      "8/8 [==============================] - 0s 5ms/step - loss: 23.9626 - mae: 3.4869 - val_loss: 20.9672 - val_mae: 3.6968\n",
      "Epoch 19/50\n",
      "8/8 [==============================] - 0s 5ms/step - loss: 22.6607 - mae: 3.3753 - val_loss: 19.9061 - val_mae: 3.5952\n",
      "Epoch 20/50\n",
      "8/8 [==============================] - 0s 5ms/step - loss: 21.5453 - mae: 3.2737 - val_loss: 18.9863 - val_mae: 3.4985\n",
      "Epoch 21/50\n",
      "8/8 [==============================] - 0s 5ms/step - loss: 20.6756 - mae: 3.1970 - val_loss: 18.2486 - val_mae: 3.4239\n",
      "Epoch 22/50\n",
      "8/8 [==============================] - 0s 4ms/step - loss: 19.8052 - mae: 3.1170 - val_loss: 17.5936 - val_mae: 3.3522\n",
      "Epoch 23/50\n",
      "8/8 [==============================] - 0s 5ms/step - loss: 19.0348 - mae: 3.0455 - val_loss: 17.0822 - val_mae: 3.3021\n",
      "Epoch 24/50\n",
      "8/8 [==============================] - 0s 5ms/step - loss: 18.5959 - mae: 3.0238 - val_loss: 16.9815 - val_mae: 3.3018\n",
      "Epoch 25/50\n",
      "8/8 [==============================] - 0s 5ms/step - loss: 18.0966 - mae: 3.0058 - val_loss: 16.6701 - val_mae: 3.2557\n",
      "Epoch 26/50\n",
      "8/8 [==============================] - 0s 5ms/step - loss: 17.4244 - mae: 2.9345 - val_loss: 16.1898 - val_mae: 3.1841\n",
      "Epoch 27/50\n",
      "8/8 [==============================] - 0s 5ms/step - loss: 16.9575 - mae: 2.8677 - val_loss: 15.7827 - val_mae: 3.1482\n",
      "Epoch 28/50\n",
      "8/8 [==============================] - 0s 5ms/step - loss: 16.5521 - mae: 2.8219 - val_loss: 15.3934 - val_mae: 3.1035\n",
      "Epoch 29/50\n",
      "8/8 [==============================] - 0s 4ms/step - loss: 16.1745 - mae: 2.7866 - val_loss: 15.0520 - val_mae: 3.0651\n",
      "Epoch 30/50\n",
      "8/8 [==============================] - 0s 4ms/step - loss: 15.8924 - mae: 2.7565 - val_loss: 14.7906 - val_mae: 3.0294\n",
      "Epoch 31/50\n",
      "8/8 [==============================] - 0s 5ms/step - loss: 15.4991 - mae: 2.7324 - val_loss: 14.5710 - val_mae: 3.0001\n",
      "Epoch 32/50\n",
      "8/8 [==============================] - 0s 4ms/step - loss: 15.1853 - mae: 2.6982 - val_loss: 14.2864 - val_mae: 2.9588\n",
      "Epoch 33/50\n",
      "8/8 [==============================] - 0s 4ms/step - loss: 14.9169 - mae: 2.6633 - val_loss: 14.0746 - val_mae: 2.9274\n",
      "Epoch 34/50\n",
      "8/8 [==============================] - 0s 5ms/step - loss: 14.6652 - mae: 2.6385 - val_loss: 13.8845 - val_mae: 2.9105\n",
      "Epoch 35/50\n",
      "8/8 [==============================] - 0s 6ms/step - loss: 14.4090 - mae: 2.6156 - val_loss: 13.7928 - val_mae: 2.9058\n",
      "Epoch 36/50\n",
      "8/8 [==============================] - 0s 5ms/step - loss: 14.1488 - mae: 2.5924 - val_loss: 13.6096 - val_mae: 2.9024\n",
      "Epoch 37/50\n",
      "8/8 [==============================] - 0s 5ms/step - loss: 14.0088 - mae: 2.5665 - val_loss: 13.2581 - val_mae: 2.8889\n",
      "Epoch 38/50\n",
      "8/8 [==============================] - 0s 4ms/step - loss: 13.7782 - mae: 2.5459 - val_loss: 13.0986 - val_mae: 2.8498\n",
      "Epoch 39/50\n",
      "8/8 [==============================] - 0s 4ms/step - loss: 13.4778 - mae: 2.5274 - val_loss: 12.9754 - val_mae: 2.8278\n",
      "Epoch 40/50\n",
      "8/8 [==============================] - 0s 5ms/step - loss: 13.3266 - mae: 2.5157 - val_loss: 12.9109 - val_mae: 2.8078\n",
      "Epoch 41/50\n",
      "8/8 [==============================] - 0s 4ms/step - loss: 13.1283 - mae: 2.4931 - val_loss: 12.7418 - val_mae: 2.8187\n",
      "Epoch 42/50\n",
      "8/8 [==============================] - 0s 4ms/step - loss: 12.9720 - mae: 2.4675 - val_loss: 12.6996 - val_mae: 2.8064\n",
      "Epoch 43/50\n",
      "8/8 [==============================] - 0s 4ms/step - loss: 12.8075 - mae: 2.4560 - val_loss: 12.4789 - val_mae: 2.7820\n",
      "Epoch 44/50\n",
      "8/8 [==============================] - 0s 4ms/step - loss: 12.6517 - mae: 2.4389 - val_loss: 12.4268 - val_mae: 2.7670\n",
      "Epoch 45/50\n",
      "8/8 [==============================] - 0s 4ms/step - loss: 12.4600 - mae: 2.4225 - val_loss: 12.4075 - val_mae: 2.7426\n",
      "Epoch 46/50\n",
      "8/8 [==============================] - 0s 5ms/step - loss: 12.2974 - mae: 2.4144 - val_loss: 12.5626 - val_mae: 2.7556\n",
      "Epoch 47/50\n",
      "8/8 [==============================] - 0s 4ms/step - loss: 12.1753 - mae: 2.4235 - val_loss: 12.7335 - val_mae: 2.7498\n",
      "Epoch 48/50\n",
      "8/8 [==============================] - 0s 4ms/step - loss: 12.1144 - mae: 2.4242 - val_loss: 12.7798 - val_mae: 2.7394\n",
      "Epoch 49/50\n",
      "8/8 [==============================] - 0s 4ms/step - loss: 11.9382 - mae: 2.3958 - val_loss: 12.4200 - val_mae: 2.7312\n",
      "Epoch 50/50\n",
      "8/8 [==============================] - 0s 4ms/step - loss: 11.7719 - mae: 2.3644 - val_loss: 12.1431 - val_mae: 2.7464\n"
     ]
    }
   ],
   "source": [
    "from tensorflow.keras import models, layers\n",
    "model = models.Sequential() # 순차처리객체\n",
    "model.add( layers.Dense(\n",
    "    64, \n",
    "    input_shape=(x_tr.shape[1],),     # input_shape에는 튜플\n",
    "    activation='relu' ) )\n",
    "model.add(layers.Dense(64, activation='relu'))\n",
    "# 회귀 경우, 마지막 출력은 1, activation 생략\n",
    "model.add(layers.Dense(1))   # 회귀이기에 linear이고 linear는 기본값이여서 생략 가능\n",
    "# model.compile(optimizer='sgd') # batch_size 만큼 읽어서 \n",
    "\n",
    "model.compile(optimizer='adam', loss='mse', metrics=['mae'])\n",
    "hist = model.fit(\n",
    "    x_tr,\n",
    "    y_tr,\n",
    "    epochs=50,\n",
    "    batch_size=50,  # batch_size를 주지않으면 train 데이터를 한꺼번에 읽음\n",
    "    validation_split=0.2\n",
    ")"
   ]
  },
  {
   "cell_type": "code",
   "execution_count": 18,
   "id": "ee3c5fc9",
   "metadata": {},
   "outputs": [
    {
     "name": "stdout",
     "output_type": "stream",
     "text": [
      "2/2 [==============================] - 0s 2ms/step - loss: 39.5432 - mae: 3.9981\n"
     ]
    },
    {
     "data": {
      "text/plain": [
       "[39.54320526123047, 3.998096227645874]"
      ]
     },
     "execution_count": 18,
     "metadata": {},
     "output_type": "execute_result"
    }
   ],
   "source": [
    "model.evaluate(x_te, y_te)"
   ]
  },
  {
   "cell_type": "code",
   "execution_count": 19,
   "id": "3eed6e0c",
   "metadata": {},
   "outputs": [
    {
     "data": {
      "image/png": "[encoded data removed]",
      "text/plain": [
       "<Figure size 432x288 with 1 Axes>"
      ]
     },
     "metadata": {
      "needs_background": "light"
     },
     "output_type": "display_data"
    }
   ],
   "source": [
    "import matplotlib.pyplot as plt\n",
    "plt.plot( hist.history['loss'], label = 'loss')\n",
    "plt.plot( hist.history['mae'], label = 'mae')\n",
    "plt.legend()\n",
    "plt.show()"
   ]
  },
  {
   "cell_type": "code",
   "execution_count": 21,
   "id": "06f9d039",
   "metadata": {},
   "outputs": [
    {
     "data": {
      "text/plain": [
       "0.5721809632634712"
      ]
     },
     "execution_count": 21,
     "metadata": {},
     "output_type": "execute_result"
    }
   ],
   "source": [
    "pred = model.predict(x_te)\n",
    "from sklearn.metrics import r2_score\n",
    "r2_score(pred, y_te)"
   ]
  },
  {
   "cell_type": "code",
   "execution_count": 25,
   "id": "acd30594",
   "metadata": {},
   "outputs": [
    {
     "data": {
      "text/plain": [
       "<matplotlib.collections.PathCollection at 0x2bcfc827190>"
      ]
     },
     "execution_count": 25,
     "metadata": {},
     "output_type": "execute_result"
    },
    {
     "data": {
      "image/png": "[encoded data removed]",
      "text/plain": [
       "<Figure size 432x288 with 1 Axes>"
      ]
     },
     "metadata": {
      "needs_background": "light"
     },
     "output_type": "display_data"
    }
   ],
   "source": [
    "plt.scatter( y_te, pred, label='pred')\n",
    "# plt.scatter( y_tr, y_te, label='y_test')"
   ]
  },
  {
   "cell_type": "code",
   "execution_count": null,
   "id": "58630a39",
   "metadata": {},
   "outputs": [],
   "source": []
  }
 ],
 "metadata": {
  "kernelspec": {
   "display_name": "Python 3 (ipykernel)",
   "language": "python",
   "name": "python3"
  },
  "language_info": {
   "codemirror_mode": {
    "name": "ipython",
    "version": 3
   },
   "file_extension": ".py",
   "mimetype": "text/x-python",
   "name": "python",
   "nbconvert_exporter": "python",
   "pygments_lexer": "ipython3",
   "version": "3.9.7"
  }
 },
 "nbformat": 4,
 "nbformat_minor": 5
}
