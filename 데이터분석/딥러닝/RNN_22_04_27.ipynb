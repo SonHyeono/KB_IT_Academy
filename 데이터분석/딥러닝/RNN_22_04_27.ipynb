{
 "cells": [
  {
   "cell_type": "code",
   "execution_count": null,
   "metadata": {
    "colab": {
     "base_uri": "https://localhost:8080/"
    },
    "id": "w9vssvewZ1eZ",
    "outputId": "06a7220a-a307-4256-d607-a152751e91a9"
   },
   "outputs": [
    {
     "name": "stdout",
     "output_type": "stream",
     "text": [
      "char2idx {'h': 0, 'l': 1, 'e': 2, 'o': 3, 'i': 4}\n",
      "idx2char {0: 'h', 1: 'l', 2: 'e', 3: 'o', 4: 'i'}\n",
      "x:hihell, y:ihello\n"
     ]
    }
   ],
   "source": [
    "import tensorflow as tf\n",
    "import numpy as np\n",
    "\n",
    "sentence = 'hihello'\n",
    "\n",
    "voca = set(sentence) # 유일한 글자만 남음\n",
    "char2idx = {c:i for i,c in enumerate(voca)}\n",
    "idx2char = {i:c for i,c in enumerate(voca)}\n",
    "print('char2idx', char2idx)\n",
    "print('idx2char', idx2char)\n",
    "\n",
    "x = sentence[:-1]  # 'hihell'\n",
    "y = sentence[1:] # 'ihello'\n",
    "print(f'x:{x}, y:{y}')\n",
    "\n",
    "n_class = len(voca) \n",
    "n_time_steps = len(x) # input sequence\n",
    "hidden_size = n_class # output size"
   ]
  },
  {
   "cell_type": "code",
   "execution_count": null,
   "metadata": {
    "colab": {
     "base_uri": "https://localhost:8080/"
    },
    "id": "rnBkV9FUalFO",
    "outputId": "618e4b72-6307-4336-d4c9-6355f9673cf8"
   },
   "outputs": [
    {
     "name": "stdout",
     "output_type": "stream",
     "text": [
      "x_idx:[0, 4, 0, 2, 1, 1], y_idx:[4, 0, 2, 1, 1, 3]\n",
      "x_enc: [[[1. 0. 0. 0. 0.]\n",
      "  [0. 0. 0. 0. 1.]\n",
      "  [1. 0. 0. 0. 0.]\n",
      "  [0. 0. 1. 0. 0.]\n",
      "  [0. 1. 0. 0. 0.]\n",
      "  [0. 1. 0. 0. 0.]]] (1, 6, 5)\n",
      "y_enc: [[[0. 0. 0. 0. 1.]\n",
      "  [1. 0. 0. 0. 0.]\n",
      "  [0. 0. 1. 0. 0.]\n",
      "  [0. 1. 0. 0. 0.]\n",
      "  [0. 1. 0. 0. 0.]\n",
      "  [0. 0. 0. 1. 0.]]] (1, 6, 5)\n"
     ]
    }
   ],
   "source": [
    "''' convert char to integer '''\n",
    "x_idx = [char2idx[c] for c in x]\n",
    "y_idx = [char2idx[c] for c in y]\n",
    "print(f'x_idx:{x_idx}, y_idx:{y_idx}')\n",
    "\n",
    "''' one-hot encoding'''\n",
    "x_enc = tf.keras.utils.to_categorical(x_idx, num_classes = n_class)     # 2차원 배열로 원핫 인코딩\n",
    "x_enc = np.expand_dims(x_enc, axis=0) # 차원을 하나 추가 -> 3차원이 됨. shape 가 (1, 6, 5)가 됨.\n",
    "\n",
    "y_enc = tf.keras.utils.to_categorical(y_idx, num_classes=n_class)\n",
    "y_enc = np.expand_dims(y_enc, axis=0)\n",
    "print('x_enc:', x_enc, x_enc.shape, )\n",
    "print('y_enc:', y_enc, y_enc.shape)"
   ]
  },
  {
   "cell_type": "code",
   "execution_count": null,
   "metadata": {
    "colab": {
     "base_uri": "https://localhost:8080/"
    },
    "id": "9UuTbyYZehQf",
    "outputId": "e892201f-5a10-4eb6-eaf5-9f9bb3e56a9f"
   },
   "outputs": [
    {
     "name": "stdout",
     "output_type": "stream",
     "text": [
      "Model: \"sequential\"\n",
      "_________________________________________________________________\n",
      " Layer (type)                Output Shape              Param #   \n",
      "=================================================================\n",
      " lstm (LSTM)                 (None, 6, 5)              220       \n",
      "                                                                 \n",
      " dense (Dense)               (None, 6, 5)              30        \n",
      "                                                                 \n",
      " activation (Activation)     (None, 6, 5)              0         \n",
      "                                                                 \n",
      "=================================================================\n",
      "Total params: 250\n",
      "Trainable params: 250\n",
      "Non-trainable params: 0\n",
      "_________________________________________________________________\n",
      "[[[0.18344676 0.2352894  0.19068551 0.19492078 0.19565752]\n",
      "  [0.20793994 0.23578021 0.19953719 0.17970192 0.17704076]\n",
      "  [0.18445793 0.24122904 0.1980127  0.18940675 0.18689357]\n",
      "  [0.17376576 0.24800381 0.18378142 0.22704613 0.16740292]\n",
      "  [0.16257782 0.24912405 0.15422569 0.29565653 0.13841589]\n",
      "  [0.15794112 0.24423723 0.13542116 0.33951744 0.12288309]]] [1 1 1 1 3 3]\n",
      "['l', 'l', 'l', 'l', 'o', 'o']\n"
     ]
    }
   ],
   "source": [
    "model = tf.keras.Sequential()\n",
    "model.add(tf.keras.layers.LSTM(hidden_size, input_shape=(n_time_steps, n_class), return_sequences=True))  # return_sequences를 True로 해야지 hidden state 값이 넘어감\n",
    "model.add(tf.keras.layers.Dense(hidden_size))\n",
    "model.add(tf.keras.layers.Activation('softmax'))\n",
    "model.summary()\n",
    "\n",
    "model.compile(optimizer='adam', loss='sparse_categorical_crossentropy')  # sparse_categorical_crossentropy를 하면 숫자로 나옴.\n",
    "# optimizer를 rmsprop로도 가능하지만 adam이 성능이 좋다\n",
    "n_epochs = 100\n",
    "history = model.fit(x_enc, np.reshape(y_idx, (1, 6, 1)), epochs=n_epochs, verbose=0)\n",
    "\n",
    "preds = model.predict(x_enc)\n",
    "print(preds, np.squeeze(np.argmax(preds, axis=2)))  # squeeze : 1차원 형태로 줄임.\n",
    "print([idx2char[i] for i in np.squeeze(np.argmax(preds, axis=2))])   # 0 : 행 방향,  1: 열 방향,  2: 면 방향"
   ]
  },
  {
   "cell_type": "code",
   "execution_count": null,
   "metadata": {
    "colab": {
     "base_uri": "https://localhost:8080/"
    },
    "id": "QkNGi6WaqAUO",
    "outputId": "d152e6b4-02c0-4615-ff7c-fac804eea18e"
   },
   "outputs": [
    {
     "name": "stdout",
     "output_type": "stream",
     "text": [
      "vocab_size : 15\n",
      "integer encoded: [[2, 3, 1, 4], [5, 6], [7, 8], [9, 10], [11, 12], [13], [14, 1]]\n",
      "max_len: 4\n"
     ]
    }
   ],
   "source": [
    "import tensorflow as tf\n",
    "\n",
    "# corpus : 말뭉치, 말모이\n",
    "corpus = ['very good nice quality',\n",
    "          'stop lies',\n",
    "          'ugly terrible',\n",
    "          'excellent work',\n",
    "          'adorable lovely',\n",
    "          'bad',\n",
    "          'greate nice']\n",
    "\n",
    "y_train = [1, 0, 0, 1, 1, 0, 1] # 1: pos, 0 : neg\n",
    "\n",
    "t = tf.keras.preprocessing.text.Tokenizer()\n",
    "t.fit_on_texts(corpus)\n",
    "vocab_size = len(t.word_index) + 1\n",
    "# 출현하는 단어별로 \n",
    "\n",
    "print(f'vocab_size : {vocab_size}')\n",
    "\n",
    "X_encoded = t.texts_to_sequences(corpus)\n",
    "print(f'integer encoded: {X_encoded}')\n",
    "\n",
    "max_len = max(len(i) for i in X_encoded)\n",
    "print(f'max_len: {max_len}')"
   ]
  },
  {
   "cell_type": "code",
   "execution_count": null,
   "metadata": {
    "colab": {
     "base_uri": "https://localhost:8080/"
    },
    "id": "CL5vu8jwrILP",
    "outputId": "26c47c05-2dab-4774-cffa-a58e1dc3ea73"
   },
   "outputs": [
    {
     "name": "stdout",
     "output_type": "stream",
     "text": [
      "padded: [[ 2  3  1  4]\n",
      " [ 5  6  0  0]\n",
      " [ 7  8  0  0]\n",
      " [ 9 10  0  0]\n",
      " [11 12  0  0]\n",
      " [13  0  0  0]\n",
      " [14  1  0  0]]\n",
      "embedding init : [[[-1.37788765e-02 -3.44018228e-02]\n",
      "  [ 3.59191559e-02 -4.55129743e-02]\n",
      "  [ 4.08287980e-02  2.49656476e-02]\n",
      "  [ 3.73352431e-02 -2.24908832e-02]]\n",
      "\n",
      " [[-3.39338556e-02  4.35443260e-02]\n",
      "  [-4.17318717e-02  3.32423188e-02]\n",
      "  [ 1.65435188e-02 -4.97226715e-02]\n",
      "  [ 1.65435188e-02 -4.97226715e-02]]\n",
      "\n",
      " [[ 2.24001706e-05  4.70766090e-02]\n",
      "  [ 3.50591280e-02  3.83417644e-02]\n",
      "  [ 1.65435188e-02 -4.97226715e-02]\n",
      "  [ 1.65435188e-02 -4.97226715e-02]]]\n",
      "Model: \"sequential_2\"\n",
      "_________________________________________________________________\n",
      " Layer (type)                Output Shape              Param #   \n",
      "=================================================================\n",
      " embedding_1 (Embedding)     (None, 4, 2)              30        \n",
      "                                                                 \n",
      " flatten_1 (Flatten)         (None, 8)                 0         \n",
      "                                                                 \n",
      " dense_2 (Dense)             (None, 1)                 9         \n",
      "                                                                 \n",
      "=================================================================\n",
      "Total params: 39\n",
      "Trainable params: 39\n",
      "Non-trainable params: 0\n",
      "_________________________________________________________________\n",
      "embedding last : [[[ 0.39469662 -0.4817866 ]\n",
      "  [-0.40644866  0.3218565 ]\n",
      "  [-0.37585008  0.6043836 ]\n",
      "  [ 0.37560725  0.5331475 ]]\n",
      "\n",
      " [[-0.5268005   0.57541555]\n",
      "  [ 0.48578215 -0.41590923]\n",
      "  [ 0.55301654 -0.5264595 ]\n",
      "  [ 0.55301654 -0.5264595 ]]\n",
      "\n",
      " [[-0.49090743  0.5770282 ]\n",
      "  [ 0.5606537  -0.4089089 ]\n",
      "  [ 0.55301654 -0.5264595 ]\n",
      "  [ 0.55301654 -0.5264595 ]]]\n"
     ]
    }
   ],
   "source": [
    "X_train = tf.keras.preprocessing.sequence.pad_sequences(X_encoded, maxlen=max_len, padding='post')  # 뒤쪽에다가 붙이는 것이 post, 앞에다 붙이는 것은 pre, truncating: 잘라내기\n",
    "y_train = np.array(y_train)\n",
    "print(f'padded: {X_train}')\n",
    "\n",
    "embd = tf.keras.layers.Embedding(vocab_size, 2, input_length=max_len)\n",
    "print(f'embedding init : {embd(X_train)[:3]}')\n",
    "\n",
    "model = tf.keras.Sequential()\n",
    "model.add(embd)\n",
    "model.add(tf.keras.layers.Flatten())  # Dense의 입력으로 넣기위함.  Flatten을 하면 1차원으로 바꿔줌.\n",
    "model.add(tf.keras.layers.Dense(1, activation='sigmoid'))  # 출력값이 0과 1 (긍정과 부정) , 여러가지 종류면 softmax\n",
    "model.summary()\n",
    "\n",
    "model.compile(optimizer='adam', loss='binary_crossentropy', metrics=['acc'])\n",
    "model.fit(X_train, y_train, epochs=500, verbose=0)\n",
    "\n",
    "print(f'embedding last : {embd(X_train)[:3]}')"
   ]
  },
  {
   "cell_type": "code",
   "execution_count": null,
   "metadata": {
    "colab": {
     "base_uri": "https://localhost:8080/",
     "height": 867
    },
    "id": "tj9xeA_esH7k",
    "outputId": "ebefaea0-fa0e-4c1d-b7f4-e1c3a742c55d"
   },
   "outputs": [
    {
     "name": "stdout",
     "output_type": "stream",
     "text": [
      "[[ 0.55301654 -0.5264595 ]\n",
      " [-0.37585008  0.6043836 ]\n",
      " [ 0.39469662 -0.4817866 ]\n",
      " [-0.40644866  0.3218565 ]\n",
      " [ 0.37560725  0.5331475 ]\n",
      " [-0.5268005   0.57541555]\n",
      " [ 0.48578215 -0.41590923]\n",
      " [-0.49090743  0.5770282 ]\n",
      " [ 0.5606537  -0.4089089 ]\n",
      " [ 0.49154195 -0.49110138]\n",
      " [-0.5515986   0.4475175 ]\n",
      " [ 0.53824776 -0.48879576]\n",
      " [-0.4869719   0.4662715 ]\n",
      " [-0.4942172   0.5694502 ]\n",
      " [ 0.49325597 -0.5260937 ]]\n"
     ]
    },
    {
     "data": {
      "image/png": "[encoded data removed]",
      "text/plain": [
       "<Figure size 720x720 with 1 Axes>"
      ]
     },
     "metadata": {
      "needs_background": "light"
     },
     "output_type": "display_data"
    }
   ],
   "source": [
    "import matplotlib.pyplot as plt\n",
    "\n",
    "embd_matrix = embd.get_weights()[0]\n",
    "print(embd_matrix)\n",
    "plt.figure(figsize=(10,10))\n",
    "for idx, (x1, x2) in enumerate(embd_matrix):\n",
    "  if idx == 0 : continue\n",
    "  plt.plot(x1, x2, 'b.')\n",
    "  plt.annotate(t.index_word[idx],(x1, x2 ))"
   ]
  }
 ],
 "metadata": {
  "accelerator": "GPU",
  "colab": {
   "collapsed_sections": [],
   "name": "RNN 22-04-27.ipynb",
   "provenance": []
  },
  "kernelspec": {
   "display_name": "Python 3 (ipykernel)",
   "language": "python",
   "name": "python3"
  },
  "language_info": {
   "codemirror_mode": {
    "name": "ipython",
    "version": 3
   },
   "file_extension": ".py",
   "mimetype": "text/x-python",
   "name": "python",
   "nbconvert_exporter": "python",
   "pygments_lexer": "ipython3",
   "version": "3.9.7"
  }
 },
 "nbformat": 4,
 "nbformat_minor": 1
}
